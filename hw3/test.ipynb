{
 "cells": [
  {
   "cell_type": "code",
   "execution_count": 1,
   "metadata": {
    "ExecuteTime": {
     "end_time": "2020-03-08T05:43:55.181941Z",
     "start_time": "2020-03-08T05:43:54.947367Z"
    }
   },
   "outputs": [],
   "source": [
    "import hw_utils as utils\n",
    "import matplotlib.pyplot as plt\n",
    "\n",
    "\n",
    "# def main():\n"
   ]
  },
  {
   "cell_type": "code",
   "execution_count": null,
   "metadata": {
    "ExecuteTime": {
     "start_time": "2020-03-08T05:43:54.912Z"
    }
   },
   "outputs": [
    {
     "name": "stdout",
     "output_type": "stream",
     "text": [
      "Number of keypoints read: 694\n",
      "Number of keypoints read: 579\n",
      "Number of keypoints read: 694\n",
      "Number of keypoints read: 579\n",
      "> /home/alex/Desktop/hw4_march7/hw_utils.py(27)MatchRANSAC()\n",
      "-> matched_pairs = sol.FindBestMatchesRANSAC(\n",
      "(Pdb) l . \n",
      " 22  \t    im2, keypoints2, descriptors2 = ReadKeys(image2)\n",
      " 23  \t\n",
      " 24  \t    keypoints1 = np.stack(keypoints1, axis=0)\n",
      " 25  \t    keypoints2 = np.stack(keypoints2, axis=0)\n",
      " 26  \t    import pdb; pdb.set_trace()\n",
      " 27  ->\t    matched_pairs = sol.FindBestMatchesRANSAC(\n",
      " 28  \t        keypoints1, keypoints2,\n",
      " 29  \t        descriptors1, descriptors2,\n",
      " 30  \t        ratio_thres, orient_agreement, scale_agreement)\n",
      " 31  \t    matched_pairs = [\n",
      " 32  \t        [keypoints1[i], keypoints2[j]] for (i, j) in matched_pairs]\n",
      "(Pdb) keypoints1.shape\n",
      "(694, 4)\n"
     ]
    }
   ],
   "source": [
    "# Test run matching with no ransac\n",
    "plt.figure(figsize=(20, 20))\n",
    "im = utils.Match('./data/scene', './data/basmati', ratio_thres=0.6)\n",
    "plt.title('Match')\n",
    "plt.imshow(im)\n",
    "\n",
    "# Test run matching with ransac\n",
    "plt.figure(figsize=(20, 20))\n",
    "im = utils.MatchRANSAC(\n",
    "    './data/scene', './data/basmati',\n",
    "    ratio_thres=0.6, orient_agreement=30, scale_agreement=0.5)\n",
    "plt.title('MatchRANSAC')\n",
    "plt.imshow(im)"
   ]
  },
  {
   "cell_type": "code",
   "execution_count": null,
   "metadata": {},
   "outputs": [],
   "source": []
  }
 ],
 "metadata": {
  "kernelspec": {
   "display_name": "Python 3",
   "language": "python",
   "name": "python3"
  },
  "language_info": {
   "codemirror_mode": {
    "name": "ipython",
    "version": 3
   },
   "file_extension": ".py",
   "mimetype": "text/x-python",
   "name": "python",
   "nbconvert_exporter": "python",
   "pygments_lexer": "ipython3",
   "version": "3.6.9"
  },
  "toc": {
   "base_numbering": 1,
   "nav_menu": {},
   "number_sections": true,
   "sideBar": true,
   "skip_h1_title": false,
   "title_cell": "Table of Contents",
   "title_sidebar": "Contents",
   "toc_cell": false,
   "toc_position": {},
   "toc_section_display": true,
   "toc_window_display": false
  }
 },
 "nbformat": 4,
 "nbformat_minor": 2
}
